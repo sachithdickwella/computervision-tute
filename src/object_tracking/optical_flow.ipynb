{
 "cells": [
  {
   "cell_type": "code",
   "execution_count": 1,
   "metadata": {
    "collapsed": true
   },
   "outputs": [],
   "source": [
    "import cv2\n",
    "import numpy as np"
   ]
  },
  {
   "cell_type": "code",
   "execution_count": 2,
   "outputs": [],
   "source": [
    "'''\n",
    "SPARSE OPTICAL FLOW - LUCAS KANADE METHOD.\n",
    "'''\n",
    "# Parameters for Shi-Tomasi corner detection algorithm.\n",
    "corner_track_params = dict(maxCorners=10, qualityLevel=0.3, minDistance=7, blockSize=7)\n",
    "# Parameters for Lucas Kanade object tracking algorithm.\n",
    "#\n",
    "# Params:\n",
    "#   winSize - Window size for the object tracking. Smaller window , sensitive to noises and small\n",
    "#             movements of the object over the frames. Larger frames, may not detect small movements\n",
    "#             of the object and not sensitive to noise.\n",
    "#\n",
    "#   maxLevel - Denotes how many level on the object tracking pyramid. Higher and higher levels,\n",
    "#              reduce the quality of the image by power of 2. So if the 'maxLevel=2', then the\n",
    "#              image resolution multiply by 1/4 (1/2 power 2) by blurring and sub-sampling.\n",
    "#              Link -> https://en.wikipedia.org/wiki/Pyramid_(image_processing)\n",
    "#\n",
    "#   criteria - Defines the criteria to execute Lucas Kanade algorithm.\n",
    "#              cv2.TERM_CRITERIA_COUNT - Defines the iterations to search for the tracking object.\n",
    "#                                        More iterations means, more exhaustive searches.\n",
    "#              cv2.TERM_CRITERIA_EPS - Epsilon value defines the accuracy of the tracking. Higher\n",
    "#                                      values, encourage higher accuracy, but slower tracking\n",
    "#                                      throughout the frames.\n",
    "#              Last two values define the number of iterations and epsilon value respectively.\n",
    "#\n",
    "lk_params = dict(winSize=(200, 200), maxLevel=2, criteria=(cv2.TERM_CRITERIA_COUNT | cv2.TERM_CRITERIA_EPS, 10, 0.03))"
   ],
   "metadata": {
    "collapsed": false,
    "pycharm": {
     "name": "#%%\n"
    }
   }
  },
  {
   "cell_type": "code",
   "execution_count": 3,
   "outputs": [
    {
     "name": "stdout",
     "output_type": "stream",
     "text": [
      "[[ True]\n",
      " [ True]\n",
      " [ True]\n",
      " [ True]\n",
      " [ True]\n",
      " [ True]\n",
      " [ True]\n",
      " [ True]\n",
      " [ True]\n",
      " [ True]]\n"
     ]
    }
   ],
   "source": [
    "# Grab the image from camera.\n",
    "capture = cv2.VideoCapture(0)\n",
    "\n",
    "_, prev_frame = capture.read()\n",
    "\n",
    "prev_gray = cv2.cvtColor(prev_frame, code=cv2.COLOR_BGR2GRAY)\n",
    "\n",
    "# POINTS TO TRACK.\n",
    "prevPts = cv2.goodFeaturesToTrack(prev_gray, mask=None, **corner_track_params)\n",
    "\n",
    "# Mask to display the tracking points and drawing the line.\n",
    "mask = np.zeros_like(prev_frame)\n",
    "\n",
    "while capture.isOpened():\n",
    "\n",
    "    ret, frame = capture.read()\n",
    "\n",
    "    frame_gray = cv2.cvtColor(frame, code=cv2.COLOR_BGR2GRAY)\n",
    "\n",
    "    # Calculate the optical flow using Pyramid Lucas Kanade.\n",
    "    nextPts, status, err = cv2.calcOpticalFlowPyrLK(prevImg=prev_gray,\n",
    "                                                    nextImg=frame_gray,\n",
    "                                                    prevPts=prevPts,\n",
    "                                                    nextPts=None,\n",
    "                                                    **lk_params)\n",
    "\n",
    "    # Filter good/matching points from the current and previous frames.\n",
    "    good_new = nextPts[status==1]\n",
    "    good_prev = prevPts[status==1]\n",
    "\n",
    "    for i, (new, prev) in enumerate(zip(good_new, good_prev)):\n",
    "\n",
    "        x_new, y_new = new.ravel()\n",
    "        x_prev, y_prev = new .ravel()\n",
    "\n",
    "        # Drawing a line between new and previous matching points on the mask.\n",
    "        mask = cv2.line(mask,\n",
    "                        pt1=(x_new, y_new),\n",
    "                        pt2=(x_prev, y_prev),\n",
    "                        color=(0, 255, 0),\n",
    "                        thickness=3)\n",
    "\n",
    "        # Drawing points on the original frame which we show.\n",
    "        frame = cv2.circle(frame, center=(x_new, y_new), radius=6, color=(0, 0, 255), thickness=-1)\n",
    "\n",
    "    img = cv2.add(frame, mask)\n",
    "\n",
    "    cv2.imshow('Tracking', img)\n",
    "\n",
    "    if cv2.waitKey(30) & 0xff == 27:\n",
    "        break\n",
    "\n",
    "    prev_gray = frame_gray.copy()\n",
    "    prevPts = good_new.reshape(-1, 1, 2)\n",
    "    break\n",
    "\n",
    "capture.release()\n",
    "cv2.destroyWindow('Tracking')"
   ],
   "metadata": {
    "collapsed": false,
    "pycharm": {
     "name": "#%%\n"
    }
   }
  },
  {
   "cell_type": "code",
   "execution_count": 13,
   "outputs": [
    {
     "data": {
      "text/plain": "'\\nDENSE OPTICAL FLOW - FARNEBACK METHOD\\n'"
     },
     "execution_count": 13,
     "metadata": {},
     "output_type": "execute_result"
    }
   ],
   "source": [
    "'''\n",
    "DENSE OPTICAL FLOW - GUNNAR FARNEBACK METHOD\n",
    "'''"
   ],
   "metadata": {
    "collapsed": false,
    "pycharm": {
     "name": "#%%\n"
    }
   }
  },
  {
   "cell_type": "code",
   "execution_count": 2,
   "outputs": [],
   "source": [
    "capture = cv2.VideoCapture(0)\n",
    "\n",
    "ret, frame1 = capture.read()\n",
    "\n",
    "prevFrame = cv2.cvtColor(frame1, code=cv2.COLOR_BGR2GRAY)\n",
    "\n",
    "hsv_mask = np.zeros_like(frame1)\n",
    "# Set max value to Saturation channel of the mask.\n",
    "hsv_mask[:, :, 1] = 255\n",
    "\n",
    "while capture.isOpened():\n",
    "\n",
    "    ret, frame2 = capture.read()\n",
    "\n",
    "    nextFrame = cv2.cvtColor(frame2, code=cv2.COLOR_BGR2GRAY)\n",
    "    # https://docs.opencv.org/2.4/modules/video/doc/motion_analysis_and_object_tracking.html#calcopticalflowfarneback\n",
    "    flow = cv2.calcOpticalFlowFarneback(prev=prevFrame,\n",
    "                                        next=nextFrame,\n",
    "                                        flow=None,\n",
    "                                        # By 0.5, denotes each layer of the pyramid twice smaller\n",
    "                                        # than its predecessor.\n",
    "                                        pyr_scale=0.5,\n",
    "                                        levels=3,\n",
    "                                        winsize=15,\n",
    "                                        iterations=3,\n",
    "                                        # Typically the value should be 5 or 7.\n",
    "                                        poly_n=5,\n",
    "                                        # Depends on the 'poly_n' value, If the 'poly_n=5', good\n",
    "                                        # value would be 'poly_sigma=1.1', if the 'poly_n=7', good\n",
    "                                        # value would be 'poly_sigma=1.5'.\n",
    "                                        poly_sigma=1.2,\n",
    "                                        flags=cv2.OPTFLOW_USE_INITIAL_FLOW)\n",
    "\n",
    "    # Convert CARTESIAN 'flow' into POLAR COORDINATES.\n",
    "    magnitude, angle = cv2.cartToPolar(x=flow[:, :, 0], y=flow[:, :, 1], angleInDegrees=True)\n",
    "\n",
    "    hsv_mask[:, :, 0] = angle / 2\n",
    "    hsv_mask[:, :, 2] = cv2.normalize(src=magnitude,\n",
    "                                      dst=None,\n",
    "                                      alpha=0,\n",
    "                                      beta=255,\n",
    "                                      norm_type=cv2.NORM_MINMAX)\n",
    "\n",
    "    bgr = cv2.cvtColor(hsv_mask, code=cv2.COLOR_HSV2BGR)\n",
    "    img = cv2.add(frame2, bgr)\n",
    "\n",
    "    cv2.imshow('frame', img)\n",
    "\n",
    "    if cv2.waitKey(20) & 0xff == 27:\n",
    "        break\n",
    "\n",
    "    prevFrame = nextFrame\n",
    "\n",
    "capture.release()\n",
    "cv2.destroyWindow('frame')"
   ],
   "metadata": {
    "collapsed": false,
    "pycharm": {
     "name": "#%%\n"
    }
   }
  },
  {
   "cell_type": "code",
   "execution_count": null,
   "outputs": [],
   "source": [
    "\n"
   ],
   "metadata": {
    "collapsed": false,
    "pycharm": {
     "name": "#%%\n"
    }
   }
  }
 ],
 "metadata": {
  "kernelspec": {
   "name": "pycharm-c57466bf",
   "language": "python",
   "display_name": "PyCharm (computervision-tute)"
  },
  "language_info": {
   "codemirror_mode": {
    "name": "ipython",
    "version": 2
   },
   "file_extension": ".py",
   "mimetype": "text/x-python",
   "name": "python",
   "nbconvert_exporter": "python",
   "pygments_lexer": "ipython2",
   "version": "2.7.6"
  }
 },
 "nbformat": 4,
 "nbformat_minor": 0
}