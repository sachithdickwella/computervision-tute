{
 "cells": [
  {
   "cell_type": "code",
   "execution_count": 1,
   "metadata": {
    "collapsed": true
   },
   "outputs": [],
   "source": [
    "import cv2\n",
    "import numpy as np\n",
    "\n",
    "\n",
    "capture = cv2.VideoCapture(0)\n",
    "\n",
    "ret, frame1 = capture.read()\n",
    "\n",
    "face_cascade = cv2.CascadeClassifier('../../notebooks/DATA/haarcascades/haarcascade_frontalface_default.xml')\n",
    "face_rects = face_cascade.detectMultiScale(frame1)\n",
    "\n",
    "face_x, face_y, width, height = tuple(face_rects[0])\n",
    "track_window = (face_x, face_y, width, height)\n",
    "\n",
    "roi = frame1[face_y:face_y + height, face_x:face_x + width]\n",
    "\n",
    "hsv_roi = cv2.cvtColor(roi, cv2.COLOR_BGR2HSV)\n",
    "\n",
    "roi_histogram = cv2.calcHist([hsv_roi], channels=[0], mask=None, histSize=[180], ranges=[0, 180])\n",
    "\n",
    "cv2.normalize(roi_histogram, roi_histogram, alpha=0, beta=255, norm_type=cv2.NORM_MINMAX)\n",
    "\n",
    "criteria = (cv2.TERM_CRITERIA_EPS | cv2.TERM_CRITERIA_COUNT, 10, 1)\n",
    "\n",
    "while capture.isOpened():\n",
    "\n",
    "    ret, frame = capture.read()\n",
    "\n",
    "    if ret:\n",
    "\n",
    "        hsv = cv2.cvtColor(frame, cv2.COLOR_BGR2HSV)\n",
    "        # Calculate back projection base off 'roi_histogram'\n",
    "        dst = cv2.calcBackProject(hsv, channels=[0], hist=roi_histogram, ranges=[0, 180], scale=1)\n",
    "        ################### Calculate the MeanShift and Draw Rectangle ########################\n",
    "        # ret, track_windowd = cv2.meanShift(probImage=dst, window=track_window, criteria=criteria)\n",
    "        #\n",
    "        # x, y, w, h = track_window\n",
    "        # img2 = cv2.rectangle(frame,\n",
    "        #                      pt1=(x, y),\n",
    "        #                      pt2=(x + w, y + h),\n",
    "        #                      color=(0, 0, 255),\n",
    "        #                      thickness=5)\n",
    "        #######################################################################################\n",
    "\n",
    "        ################### Calculate the CamShift and Draw Rectangle #########################\n",
    "        ret, track_window = cv2.CamShift(probImage=dst, window=track_window, criteria=criteria)\n",
    "\n",
    "        pts = cv2.boxPoints(ret)\n",
    "        pts = np.int0(pts)\n",
    "        img2 = cv2.polylines(frame, pts=[pts], isClosed=True, color=(0, 0, 255), thickness=5)\n",
    "        #######################################################################################\n",
    "\n",
    "        cv2.imshow('Tracking', img2)\n",
    "\n",
    "        if cv2.waitKey(20) & 0xff == 27:\n",
    "            break\n",
    "    else:\n",
    "        break\n",
    "\n",
    "cv2.destroyWindow('Tracking')\n",
    "capture.release()"
   ]
  },
  {
   "cell_type": "code",
   "execution_count": 2,
   "outputs": [],
   "source": [
    "\n"
   ],
   "metadata": {
    "collapsed": false,
    "pycharm": {
     "name": "#%%\n"
    }
   }
  }
 ],
 "metadata": {
  "kernelspec": {
   "name": "pycharm-c57466bf",
   "language": "python",
   "display_name": "PyCharm (computervision-tute)"
  },
  "language_info": {
   "codemirror_mode": {
    "name": "ipython",
    "version": 2
   },
   "file_extension": ".py",
   "mimetype": "text/x-python",
   "name": "python",
   "nbconvert_exporter": "python",
   "pygments_lexer": "ipython2",
   "version": "2.7.6"
  }
 },
 "nbformat": 4,
 "nbformat_minor": 0
}