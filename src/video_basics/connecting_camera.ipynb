{
 "cells": [
  {
   "cell_type": "code",
   "execution_count": 2,
   "outputs": [],
   "source": [
    "import cv2\n",
    "\n",
    "# Argument '0' implies to OpenCV to take default camera connected.\n",
    "capture = cv2.VideoCapture(0)\n",
    "# Set required properties.\n",
    "capture.set(cv2.CAP_PROP_MODE, cv2.CAP_MODE_GRAY)\n",
    "# Get required properties.\n",
    "width = int(capture.get(cv2.CAP_PROP_FRAME_WIDTH))\n",
    "height = int(capture.get(cv2.CAP_PROP_FRAME_HEIGHT))\n",
    "\n",
    "# Writer to write the video frames into a file.\n",
    "writer = cv2.VideoWriter('~/Videos/opencv_capture.mp4',\n",
    "                         # CODEC\n",
    "                         cv2.VideoWriter_fourcc(*'DIVX'),\n",
    "                         int(capture.get(cv2.CAP_PROP_FRAME_COUNT)),\n",
    "                         (width, height))\n",
    "# If Windows -> 'Fourcc' code is 'DIVX'.\n",
    "# If MacOS or Linux distribution 'Fourcc' code is 'XVID'.\n",
    "\n",
    "while True:\n",
    "\n",
    "    ret, frame = capture.read()\n",
    "\n",
    "    gray = cv2.cvtColor(frame, code=cv2.COLOR_BGR2GRAY)\n",
    "    sobelX = cv2.Sobel(gray, ddepth=cv2.CV_64F, dx=1, dy=0, ksize=5)\n",
    "    sobelY = cv2.Sobel(gray, ddepth=cv2.CV_64F, dx=0, dy=1, ksize=5)\n",
    "\n",
    "    blended = cv2.addWeighted(src1=sobelX, alpha=.5, src2=sobelY, beta=.5, gamma=1)\n",
    "\n",
    "    # OPERATION (Ex: DRAWING)\n",
    "    writer.write(blended)\n",
    "\n",
    "    cv2.imshow('frame', blended)\n",
    "\n",
    "    if cv2.waitKey(1) & 0xff == 27:\n",
    "        break\n",
    "\n",
    "capture.release()\n",
    "writer.release()\n",
    "cv2.destroyWindow('frame')"
   ],
   "metadata": {
    "collapsed": false,
    "pycharm": {
     "name": "#%%\n"
    }
   }
  },
  {
   "cell_type": "code",
   "execution_count": 0,
   "outputs": [],
   "source": [
    "\n"
   ],
   "metadata": {
    "collapsed": false,
    "pycharm": {
     "name": "#%%\n"
    }
   }
  }
 ],
 "metadata": {
  "kernelspec": {
   "name": "pycharm-c57466bf",
   "language": "python",
   "display_name": "PyCharm (computervision-tute)"
  },
  "language_info": {
   "codemirror_mode": {
    "name": "ipython",
    "version": 2
   },
   "file_extension": ".py",
   "mimetype": "text/x-python",
   "name": "python",
   "nbconvert_exporter": "python",
   "pygments_lexer": "ipython2",
   "version": "2.7.6"
  }
 },
 "nbformat": 4,
 "nbformat_minor": 0
}